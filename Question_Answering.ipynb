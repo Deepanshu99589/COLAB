{
  "nbformat": 4,
  "nbformat_minor": 0,
  "metadata": {
    "colab": {
      "provenance": [],
      "authorship_tag": "ABX9TyMN4se31GYenUX+f1Ylpz+O",
      "include_colab_link": true
    },
    "kernelspec": {
      "name": "python3",
      "display_name": "Python 3"
    },
    "language_info": {
      "name": "python"
    }
  },
  "cells": [
    {
      "cell_type": "markdown",
      "metadata": {
        "id": "view-in-github",
        "colab_type": "text"
      },
      "source": [
        "<a href=\"https://colab.research.google.com/github/Deepanshu99589/COLAB/blob/main/Question_Answering.ipynb\" target=\"_parent\"><img src=\"https://colab.research.google.com/assets/colab-badge.svg\" alt=\"Open In Colab\"/></a>"
      ]
    },
    {
      "cell_type": "code",
      "source": [
        "import nltk\n",
        "nltk.download('punkt')\n",
        "nltk.download('stopwords')\n",
        "nltk.download('wordnet')"
      ],
      "metadata": {
        "colab": {
          "base_uri": "https://localhost:8080/"
        },
        "id": "weGSEGximibG",
        "outputId": "6e6a72ac-cbe6-446d-da94-e3c4e4312e5c"
      },
      "execution_count": null,
      "outputs": [
        {
          "output_type": "stream",
          "name": "stderr",
          "text": [
            "[nltk_data] Downloading package punkt to /root/nltk_data...\n",
            "[nltk_data]   Package punkt is already up-to-date!\n",
            "[nltk_data] Downloading package stopwords to /root/nltk_data...\n",
            "[nltk_data]   Package stopwords is already up-to-date!\n",
            "[nltk_data] Downloading package wordnet to /root/nltk_data...\n"
          ]
        },
        {
          "output_type": "execute_result",
          "data": {
            "text/plain": [
              "True"
            ]
          },
          "metadata": {},
          "execution_count": 14
        }
      ]
    },
    {
      "cell_type": "code",
      "execution_count": null,
      "metadata": {
        "colab": {
          "base_uri": "https://localhost:8080/"
        },
        "id": "zC4PskT2jiz-",
        "outputId": "57236ee6-88e1-4d24-eb8b-3287ea4ee323"
      },
      "outputs": [
        {
          "output_type": "stream",
          "name": "stdout",
          "text": [
            "I have a cat.\n"
          ]
        }
      ],
      "source": [
        "import nltk\n",
        "from nltk.tokenize import word_tokenize\n",
        "from nltk.corpus import stopwords\n",
        "from nltk.corpus import wordnet\n",
        "from nltk.stem import WordNetLemmatizer\n",
        "\n",
        "def preprocess_text(text):\n",
        "    # Tokenize the text\n",
        "    tokens = word_tokenize(text.lower())\n",
        "\n",
        "    # Remove stopwords\n",
        "    stop_words = set(stopwords.words(\"english\"))\n",
        "    filtered_tokens = [token for token in tokens if token not in stop_words]\n",
        "\n",
        "    # Lemmatize the tokens\n",
        "    lemmatizer = WordNetLemmatizer()\n",
        "    lemmatized_tokens = [lemmatizer.lemmatize(token) for token in\n",
        "filtered_tokens]\n",
        "\n",
        "    return lemmatized_tokens\n",
        "\n",
        "def find_answer(question, text):\n",
        "    # Preprocess the question and text\n",
        "    question_tokens = preprocess_text(question)\n",
        "    text_tokens = preprocess_text(text)\n",
        "\n",
        "    # Find the matching tokens\n",
        "    matching_tokens = set(question_tokens).intersection(text_tokens)\n",
        "\n",
        "    # Find the sentence containing the most matching tokens\n",
        "    sentences = nltk.sent_tokenize(text)\n",
        "    max_matching_tokens = 0\n",
        "    best_sentence = None\n",
        "    for sentence in sentences:\n",
        "        sentence_tokens = preprocess_text(sentence)\n",
        "        num_matching_tokens = len(set(sentence_tokens).intersection(matching_tokens))\n",
        "        if num_matching_tokens > max_matching_tokens:\n",
        "           max_matching_tokens = num_matching_tokens\n",
        "           best_sentence = sentence\n",
        "\n",
        "    return best_sentence\n",
        "\n",
        "# Example usage\n",
        "text = \"I have a cat. Its name is Fluffy. Fluffy is a very cute cat.\"\n",
        "question = \"What is the name of my cat?\"\n",
        "\n",
        "answer = find_answer(question, text)\n",
        "print(answer)"
      ]
    }
  ]
}