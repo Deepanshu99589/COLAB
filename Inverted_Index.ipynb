{
  "nbformat": 4,
  "nbformat_minor": 0,
  "metadata": {
    "colab": {
      "provenance": [],
      "authorship_tag": "ABX9TyPg8U0E6UVeYu1avNtz59He",
      "include_colab_link": true
    },
    "kernelspec": {
      "name": "python3",
      "display_name": "Python 3"
    },
    "language_info": {
      "name": "python"
    }
  },
  "cells": [
    {
      "cell_type": "markdown",
      "metadata": {
        "id": "view-in-github",
        "colab_type": "text"
      },
      "source": [
        "<a href=\"https://colab.research.google.com/github/Deepanshu99589/COLAB/blob/main/Inverted_Index.ipynb\" target=\"_parent\"><img src=\"https://colab.research.google.com/assets/colab-badge.svg\" alt=\"Open In Colab\"/></a>"
      ]
    },
    {
      "cell_type": "code",
      "execution_count": null,
      "metadata": {
        "colab": {
          "base_uri": "https://localhost:8080/"
        },
        "id": "QFiZfQ8-aHPb",
        "outputId": "80aa25fa-7450-4c47-f8e7-d60e9d9ef4fd"
      },
      "outputs": [
        {
          "output_type": "stream",
          "name": "stderr",
          "text": [
            "[nltk_data] Downloading package punkt to /root/nltk_data...\n",
            "[nltk_data]   Unzipping tokenizers/punkt.zip.\n"
          ]
        },
        {
          "output_type": "stream",
          "name": "stdout",
          "text": [
            "['The quick brown fox jumps over the lazy dog', 'A quick brown dog outpaces a quick fox', 'The lazy dog sleeps all day', 'The quick brown fox is not lazy', 'The lazy dog is not quick']\n"
          ]
        }
      ],
      "source": [
        "import nltk\n",
        "from nltk.stem.porter import PorterStemmer\n",
        "\n",
        "nltk.download('punkt')\n",
        "def preprocess(text):\n",
        "    stemmer = PorterStemmer()\n",
        "    tokens = nltk.word_tokenize(text)\n",
        "    stemmed_tokens = [stemmer.stem(token.lower()) for token in tokens]\n",
        "    return stemmed_tokens\n",
        "def create_inverted_index(docs):\n",
        "    inverted_index = {}\n",
        "    for doc_id, doc_text in enumerate(docs):\n",
        "        for term in preprocess(doc_text):\n",
        "            if term not in inverted_index:\n",
        "               inverted_index[term] = set()\n",
        "            inverted_index[term].add(doc_id)\n",
        "    return inverted_index\n",
        "\n",
        "def search_inverted_index(query, inverted_index, docs):\n",
        "    query_terms = preprocess(query)\n",
        "    results = set()\n",
        "    for term in query_terms:\n",
        "        if term in inverted_index:\n",
        "           results.update(inverted_index[term])\n",
        "    return [docs[result_id] for result_id in sorted(results)]\n",
        "\n",
        "docs = [\n",
        " \"The quick brown fox jumps over the lazy dog\",\n",
        " \"A quick brown dog outpaces a quick fox\",\n",
        " \"The lazy dog sleeps all day\",\n",
        " \"The quick brown fox is not lazy\",\n",
        " \"The lazy dog is not quick\",\n",
        "]\n",
        "inverted_index = create_inverted_index(docs)\n",
        "query = \"quick lazy\"\n",
        "results = search_inverted_index(query, inverted_index, docs)\n",
        "print(results)"
      ]
    }
  ]
}