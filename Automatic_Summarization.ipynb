{
  "nbformat": 4,
  "nbformat_minor": 0,
  "metadata": {
    "colab": {
      "provenance": [],
      "authorship_tag": "ABX9TyM+puO6fzj5+/UabltGDEac",
      "include_colab_link": true
    },
    "kernelspec": {
      "name": "python3",
      "display_name": "Python 3"
    },
    "language_info": {
      "name": "python"
    }
  },
  "cells": [
    {
      "cell_type": "markdown",
      "metadata": {
        "id": "view-in-github",
        "colab_type": "text"
      },
      "source": [
        "<a href=\"https://colab.research.google.com/github/Deepanshu99589/COLAB/blob/main/Automatic_Summarization.ipynb\" target=\"_parent\"><img src=\"https://colab.research.google.com/assets/colab-badge.svg\" alt=\"Open In Colab\"/></a>"
      ]
    },
    {
      "cell_type": "code",
      "execution_count": null,
      "metadata": {
        "colab": {
          "base_uri": "https://localhost:8080/"
        },
        "id": "-U49kr2Sa90q",
        "outputId": "13ebb6ff-443c-4b65-db49-4af9d2f38166"
      },
      "outputs": [
        {
          "output_type": "stream",
          "name": "stderr",
          "text": [
            "[nltk_data] Downloading package punkt to /root/nltk_data...\n",
            "[nltk_data]   Unzipping tokenizers/punkt.zip.\n"
          ]
        },
        {
          "output_type": "stream",
          "name": "stdout",
          "text": [
            "The United States is a founding member of the\n",
            "United Nations, World Bank, International Monetary Fund, Organization of\n",
            "American States (OAS), and other international organizations. The United States embarked on a vigorous expansion across North\n",
            "America throughout the 19th century, acquiring new territories, displacing\n",
            "Native American tribes, and gradually admitting new states. It\n",
            "consists of 50 states, a federal district, five major self-governing\n",
            "territories, and various possessions.\n"
          ]
        },
        {
          "output_type": "stream",
          "name": "stderr",
          "text": [
            "[nltk_data] Downloading package stopwords to /root/nltk_data...\n",
            "[nltk_data]   Unzipping corpora/stopwords.zip.\n"
          ]
        }
      ],
      "source": [
        "import nltk\n",
        "nltk.download('punkt')\n",
        "nltk.download('stopwords')\n",
        "from nltk.corpus import stopwords\n",
        "from nltk.tokenize import word_tokenize, sent_tokenize\n",
        "from heapq import nlargest\n",
        "\n",
        "text = \"\"\"\n",
        "The United States of America (USA), commonly known as the United States (U.S.\n",
        "or US) or America, is a country primarily located in North America. It\n",
        "consists of 50 states, a federal district, five major self-governing\n",
        "territories, and various possessions. The 48 contiguous states and federal\n",
        "district are in central North America between Canada and Mexico, with the\n",
        "state of Alaska in the northwestern part of North America and the state of\n",
        "Hawaii comprising the archipelago in the mid-Pacific. The territories are\n",
        "scattered throughout the Pacific Ocean and the Caribbean Sea, and are located\n",
        "off the coasts of South America and North America, respectively.\n",
        "\n",
        "The United States is the world's third or fourth largest country by total area\n",
        "and is slightly smaller than the entire continent of Europe. With a population\n",
        "of over 328 million, it is the third most populous country in the world. The\n",
        "capital is Washington, D.C., and the most populous city is New York City.\n",
        "\n",
        "Paleo-Indians migrated from Siberia to the North American mainland at least\n",
        "12,000 years ago. European colonization began in the 16th century. The United\n",
        "States emerged from the thirteen British colonies established along the East\n",
        "Coast. Numerous disputes between Great Britain and the colonies led to the\n",
        "American Revolutionary War lasting between 1775 and 1783, leading to\n",
        "independence. The United States embarked on a vigorous expansion across North\n",
        "America throughout the 19th century, acquiring new territories, displacing\n",
        "Native American tribes, and gradually admitting new states. By 1848, the\n",
        "United States spanned the continent.\n",
        "\n",
        "The end of the Cold War and the collapse of the Soviet Union in 1991 left the\n",
        "United States as the world's sole superpower. The country accounts for\n",
        "approximately 25% of the world's gross domestic product and is the largest\n",
        "military power in the world. The United States is a founding member of the\n",
        "United Nations, World Bank, International Monetary Fund, Organization of\n",
        "American States (OAS), and other international organizations. The United\n",
        "States is a highly developed country, with the world's largest economy by\n",
        "nominal GDP and second-largest economy by PPP, accounting for approximately a\n",
        "quarter of global GDP.\n",
        "\"\"\"\n",
        "\n",
        "# Tokenize the text into sentences and words\n",
        "sentences = sent_tokenize(text)\n",
        "words = word_tokenize(text)\n",
        "\n",
        "# Remove stop words\n",
        "stop_words = set(stopwords.words('english'))\n",
        "words = [word for word in words if not word.lower() in stop_words]\n",
        "\n",
        "# Calculate the frequency of each word\n",
        "word_freq = nltk.FreqDist(words)\n",
        "\n",
        "# Calculate the score of each sentence by summing up the frequency of its words\n",
        "sentence_scores = {}\n",
        "for sentence in sentences:\n",
        "    for word in nltk.word_tokenize(sentence.lower()):\n",
        "        if word in word_freq.keys():\n",
        "           if len(sentence.split(' ')) < 30: # Limit summary to sentences with less than 30 words\n",
        "\n",
        "              if sentence not in sentence_scores.keys():\n",
        "                 sentence_scores[sentence] = word_freq[word]\n",
        "              else:\n",
        "                 sentence_scores[sentence] += word_freq[word]\n",
        "\n",
        "# Get the top 3 sentences with the highest scores\n",
        "summary_sentences = nlargest(3, sentence_scores, key=sentence_scores.get)\n",
        "summary = ' '.join(summary_sentences)\n",
        "\n",
        "print(summary)"
      ]
    }
  ]
}